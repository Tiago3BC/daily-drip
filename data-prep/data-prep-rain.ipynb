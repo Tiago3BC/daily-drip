{
 "cells": [
  {
   "cell_type": "code",
   "execution_count": 623,
   "id": "ca3f0da0",
   "metadata": {},
   "outputs": [],
   "source": [
    "import pandas as pd\n",
    "import matplotlib.pyplot as plt\n",
    "import numpy as np"
   ]
  },
  {
   "cell_type": "code",
   "execution_count": 624,
   "id": "b9901206",
   "metadata": {},
   "outputs": [],
   "source": [
    "rain_df = pd.read_csv('../historical-data/rain-data.csv')"
   ]
  },
  {
   "cell_type": "code",
   "execution_count": 625,
   "id": "89d0f549",
   "metadata": {},
   "outputs": [
    {
     "name": "stdout",
     "output_type": "stream",
     "text": [
      "      location      Jardim de Belém\n",
      "0          lat             38.75000\n",
      "1          lon             -9.00000\n",
      "2          asl               70.106\n",
      "3     variable  Precipitation Total\n",
      "4         unit                   mm\n",
      "5        level                  sfc\n",
      "6   resolution               hourly\n",
      "7  aggregation                  NaN\n"
     ]
    }
   ],
   "source": [
    "# Overall Information\n",
    "print(rain_df.head(8))"
   ]
  },
  {
   "cell_type": "code",
   "execution_count": 626,
   "id": "b70561d3",
   "metadata": {},
   "outputs": [],
   "source": [
    "rain_df = pd.read_csv('../historical-data/rain-data.csv', header=9)"
   ]
  },
  {
   "cell_type": "code",
   "execution_count": 627,
   "id": "5d30ac86",
   "metadata": {},
   "outputs": [],
   "source": [
    "# Rename Columns\n",
    "rain_df = rain_df.rename(columns={'timestamp': 'Date/Hour', 'Jardim de Belém Precipitation Total': 'Precipitation (mm)'})"
   ]
  },
  {
   "cell_type": "code",
   "execution_count": 628,
   "id": "c15f41bc",
   "metadata": {},
   "outputs": [],
   "source": [
    "#Convert to datetime\n",
    "rain_df['Date/Hour'] = pd.to_datetime(rain_df['Date/Hour'])\n",
    "rain_df['Date'] = rain_df['Date/Hour'].dt.date\n",
    "rain_df['Hour'] = rain_df['Date/Hour'].dt.hour"
   ]
  },
  {
   "cell_type": "code",
   "execution_count": 629,
   "id": "ba3df398",
   "metadata": {},
   "outputs": [],
   "source": [
    "#Rearrange columns\n",
    "rain_df = rain_df.drop(columns=['Date/Hour'])\n",
    "rain_df = rain_df[['Date','Hour', 'Precipitation (mm)']]"
   ]
  },
  {
   "cell_type": "code",
   "execution_count": 630,
   "id": "ffc8c6f2",
   "metadata": {},
   "outputs": [],
   "source": [
    "rain_df.reset_index(drop=True, inplace=True)"
   ]
  },
  {
   "cell_type": "code",
   "execution_count": 631,
   "id": "ebb42fed",
   "metadata": {},
   "outputs": [],
   "source": [
    "#Only show data from 7am to 10pm\n",
    "rain_df = rain_df[(rain_df['Hour'] >= 7) & (rain_df['Hour'] <= 17)]"
   ]
  },
  {
   "cell_type": "code",
   "execution_count": 632,
   "id": "c7f329cc",
   "metadata": {},
   "outputs": [],
   "source": [
    "# Group days by date\n",
    "rain_df = rain_df.groupby('Date').agg({'Precipitation (mm)': 'sum'}).reset_index()"
   ]
  },
  {
   "cell_type": "code",
   "execution_count": 633,
   "id": "9e1ba99c",
   "metadata": {},
   "outputs": [
    {
     "data": {
      "text/html": [
       "<div>\n",
       "<style scoped>\n",
       "    .dataframe tbody tr th:only-of-type {\n",
       "        vertical-align: middle;\n",
       "    }\n",
       "\n",
       "    .dataframe tbody tr th {\n",
       "        vertical-align: top;\n",
       "    }\n",
       "\n",
       "    .dataframe thead th {\n",
       "        text-align: right;\n",
       "    }\n",
       "</style>\n",
       "<table border=\"1\" class=\"dataframe\">\n",
       "  <thead>\n",
       "    <tr style=\"text-align: right;\">\n",
       "      <th></th>\n",
       "      <th>Date</th>\n",
       "      <th>Precipitation (mm)</th>\n",
       "    </tr>\n",
       "  </thead>\n",
       "  <tbody>\n",
       "    <tr>\n",
       "      <th>0</th>\n",
       "      <td>2023-01-01</td>\n",
       "      <td>9.0</td>\n",
       "    </tr>\n",
       "    <tr>\n",
       "      <th>1</th>\n",
       "      <td>2023-01-02</td>\n",
       "      <td>0.0</td>\n",
       "    </tr>\n",
       "    <tr>\n",
       "      <th>2</th>\n",
       "      <td>2023-01-03</td>\n",
       "      <td>0.0</td>\n",
       "    </tr>\n",
       "    <tr>\n",
       "      <th>3</th>\n",
       "      <td>2023-01-04</td>\n",
       "      <td>0.0</td>\n",
       "    </tr>\n",
       "    <tr>\n",
       "      <th>4</th>\n",
       "      <td>2023-01-05</td>\n",
       "      <td>0.0</td>\n",
       "    </tr>\n",
       "    <tr>\n",
       "      <th>...</th>\n",
       "      <td>...</td>\n",
       "      <td>...</td>\n",
       "    </tr>\n",
       "    <tr>\n",
       "      <th>849</th>\n",
       "      <td>2025-04-29</td>\n",
       "      <td>0.0</td>\n",
       "    </tr>\n",
       "    <tr>\n",
       "      <th>850</th>\n",
       "      <td>2025-04-30</td>\n",
       "      <td>0.0</td>\n",
       "    </tr>\n",
       "    <tr>\n",
       "      <th>851</th>\n",
       "      <td>2025-05-01</td>\n",
       "      <td>0.0</td>\n",
       "    </tr>\n",
       "    <tr>\n",
       "      <th>852</th>\n",
       "      <td>2025-05-02</td>\n",
       "      <td>0.0</td>\n",
       "    </tr>\n",
       "    <tr>\n",
       "      <th>853</th>\n",
       "      <td>2025-05-03</td>\n",
       "      <td>0.0</td>\n",
       "    </tr>\n",
       "  </tbody>\n",
       "</table>\n",
       "<p>854 rows × 2 columns</p>\n",
       "</div>"
      ],
      "text/plain": [
       "           Date  Precipitation (mm)\n",
       "0    2023-01-01                 9.0\n",
       "1    2023-01-02                 0.0\n",
       "2    2023-01-03                 0.0\n",
       "3    2023-01-04                 0.0\n",
       "4    2023-01-05                 0.0\n",
       "..          ...                 ...\n",
       "849  2025-04-29                 0.0\n",
       "850  2025-04-30                 0.0\n",
       "851  2025-05-01                 0.0\n",
       "852  2025-05-02                 0.0\n",
       "853  2025-05-03                 0.0\n",
       "\n",
       "[854 rows x 2 columns]"
      ]
     },
     "execution_count": 633,
     "metadata": {},
     "output_type": "execute_result"
    }
   ],
   "source": [
    "rain_df"
   ]
  },
  {
   "cell_type": "code",
   "execution_count": 634,
   "id": "12866fb6",
   "metadata": {},
   "outputs": [
    {
     "data": {
      "image/png": "[encoded data removed]",
      "text/plain": [
       "<Figure size 1120x320 with 1 Axes>"
      ]
     },
     "metadata": {},
     "output_type": "display_data"
    }
   ],
   "source": [
    "# Data\n",
    "x = rain_df['Date'].values\n",
    "y = rain_df['Precipitation (mm)'].values\n",
    "\n",
    "# Plot\n",
    "fig, ax = plt.subplots(figsize=(14, 4), dpi=80)\n",
    "\n",
    "ax.plot(x, y, color='blue', linewidth=1)\n",
    "ax.set_title('Precipitation in Belém', fontsize=16)\n",
    "\n",
    "plt.show()"
   ]
  },
  {
   "cell_type": "code",
   "execution_count": 635,
   "id": "3b8a149f",
   "metadata": {},
   "outputs": [],
   "source": [
    "def rain_intensity(mm):\n",
    "    if mm == 0:\n",
    "        return 'No Rain'\n",
    "    elif mm <= 2.5:\n",
    "        return 'Mild Rain'\n",
    "    elif mm <= 10:\n",
    "        return 'Moderate Rain'\n",
    "    else:\n",
    "        return 'Heavy Rain'"
   ]
  },
  {
   "cell_type": "code",
   "execution_count": 636,
   "id": "0e0a8c26",
   "metadata": {},
   "outputs": [],
   "source": [
    "rain_df['Rain Intensity'] = rain_df['Precipitation (mm)'].apply(rain_intensity)"
   ]
  },
  {
   "cell_type": "code",
   "execution_count": 637,
   "id": "0d15bde4",
   "metadata": {},
   "outputs": [
    {
     "data": {
      "text/html": [
       "<div>\n",
       "<style scoped>\n",
       "    .dataframe tbody tr th:only-of-type {\n",
       "        vertical-align: middle;\n",
       "    }\n",
       "\n",
       "    .dataframe tbody tr th {\n",
       "        vertical-align: top;\n",
       "    }\n",
       "\n",
       "    .dataframe thead th {\n",
       "        text-align: right;\n",
       "    }\n",
       "</style>\n",
       "<table border=\"1\" class=\"dataframe\">\n",
       "  <thead>\n",
       "    <tr style=\"text-align: right;\">\n",
       "      <th></th>\n",
       "      <th>Date</th>\n",
       "      <th>Precipitation (mm)</th>\n",
       "      <th>Rain Intensity</th>\n",
       "    </tr>\n",
       "  </thead>\n",
       "  <tbody>\n",
       "    <tr>\n",
       "      <th>0</th>\n",
       "      <td>2023-01-01</td>\n",
       "      <td>9.0</td>\n",
       "      <td>Moderate Rain</td>\n",
       "    </tr>\n",
       "    <tr>\n",
       "      <th>1</th>\n",
       "      <td>2023-01-02</td>\n",
       "      <td>0.0</td>\n",
       "      <td>No Rain</td>\n",
       "    </tr>\n",
       "    <tr>\n",
       "      <th>2</th>\n",
       "      <td>2023-01-03</td>\n",
       "      <td>0.0</td>\n",
       "      <td>No Rain</td>\n",
       "    </tr>\n",
       "    <tr>\n",
       "      <th>3</th>\n",
       "      <td>2023-01-04</td>\n",
       "      <td>0.0</td>\n",
       "      <td>No Rain</td>\n",
       "    </tr>\n",
       "    <tr>\n",
       "      <th>4</th>\n",
       "      <td>2023-01-05</td>\n",
       "      <td>0.0</td>\n",
       "      <td>No Rain</td>\n",
       "    </tr>\n",
       "    <tr>\n",
       "      <th>...</th>\n",
       "      <td>...</td>\n",
       "      <td>...</td>\n",
       "      <td>...</td>\n",
       "    </tr>\n",
       "    <tr>\n",
       "      <th>849</th>\n",
       "      <td>2025-04-29</td>\n",
       "      <td>0.0</td>\n",
       "      <td>No Rain</td>\n",
       "    </tr>\n",
       "    <tr>\n",
       "      <th>850</th>\n",
       "      <td>2025-04-30</td>\n",
       "      <td>0.0</td>\n",
       "      <td>No Rain</td>\n",
       "    </tr>\n",
       "    <tr>\n",
       "      <th>851</th>\n",
       "      <td>2025-05-01</td>\n",
       "      <td>0.0</td>\n",
       "      <td>No Rain</td>\n",
       "    </tr>\n",
       "    <tr>\n",
       "      <th>852</th>\n",
       "      <td>2025-05-02</td>\n",
       "      <td>0.0</td>\n",
       "      <td>No Rain</td>\n",
       "    </tr>\n",
       "    <tr>\n",
       "      <th>853</th>\n",
       "      <td>2025-05-03</td>\n",
       "      <td>0.0</td>\n",
       "      <td>No Rain</td>\n",
       "    </tr>\n",
       "  </tbody>\n",
       "</table>\n",
       "<p>854 rows × 3 columns</p>\n",
       "</div>"
      ],
      "text/plain": [
       "           Date  Precipitation (mm) Rain Intensity\n",
       "0    2023-01-01                 9.0  Moderate Rain\n",
       "1    2023-01-02                 0.0        No Rain\n",
       "2    2023-01-03                 0.0        No Rain\n",
       "3    2023-01-04                 0.0        No Rain\n",
       "4    2023-01-05                 0.0        No Rain\n",
       "..          ...                 ...            ...\n",
       "849  2025-04-29                 0.0        No Rain\n",
       "850  2025-04-30                 0.0        No Rain\n",
       "851  2025-05-01                 0.0        No Rain\n",
       "852  2025-05-02                 0.0        No Rain\n",
       "853  2025-05-03                 0.0        No Rain\n",
       "\n",
       "[854 rows x 3 columns]"
      ]
     },
     "execution_count": 637,
     "metadata": {},
     "output_type": "execute_result"
    }
   ],
   "source": [
    "rain_df"
   ]
  },
  {
   "cell_type": "code",
   "execution_count": 638,
   "id": "b5e83155",
   "metadata": {},
   "outputs": [],
   "source": [
    "# Save to CSV\n",
    "rain_df.to_csv('./clean-data/rain-data-processed.csv', index=False)"
   ]
  }
 ],
 "metadata": {
  "kernelspec": {
   "display_name": "Python 3",
   "language": "python",
   "name": "python3"
  },
  "language_info": {
   "codemirror_mode": {
    "name": "ipython",
    "version": 3
   },
   "file_extension": ".py",
   "mimetype": "text/x-python",
   "name": "python",
   "nbconvert_exporter": "python",
   "pygments_lexer": "ipython3",
   "version": "3.9.6"
  }
 },
 "nbformat": 4,
 "nbformat_minor": 5
}
